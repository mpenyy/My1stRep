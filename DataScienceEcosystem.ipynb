{
 "cells": [
  {
   "cell_type": "markdown",
   "id": "2a0ef887",
   "metadata": {},
   "source": [
    "# Data Science Tools and Ecosystem"
   ]
  },
  {
   "cell_type": "markdown",
   "id": "caa01d4e",
   "metadata": {},
   "source": [
    "### This notebook provides a summary of the Data Science Tools and Ecosystem"
   ]
  },
  {
   "cell_type": "markdown",
   "id": "0ac3b92e",
   "metadata": {},
   "source": [
    "#### Some of the most used languages in Data Science:\n",
    "1. Python\n",
    "2. R\n",
    "3. SQL\n",
    "4. Julia"
   ]
  },
  {
   "cell_type": "markdown",
   "id": "84f74cc3",
   "metadata": {},
   "source": [
    "#### Some of the libraries commonly used by Data Scientists are:\n",
    "\n",
    "###### 1. Data Manipulation and Analysis\n",
    "1.1 NumPy\n",
    "\n",
    "1.2 Pandas\n",
    "\n",
    "###### 2. Data Visualization\n",
    "2.1 Matplotlib\n",
    "\n",
    "2.2 Seaborn\n",
    "\n",
    "###### 3. Machine Learning\n",
    "3.1 Scikit-learn\n",
    "\n",
    "3.2 TensorFlow\n",
    "\n",
    "3.3 Keras\n",
    "\n",
    "3.4 PyTorch\n",
    "\n",
    "###### 4. Statistical Modeling and Analysis\n",
    "4.1 Statsmodels\n",
    "\n",
    "4.2SciPy"
   ]
  },
  {
   "cell_type": "markdown",
   "id": "dfc6c794",
   "metadata": {},
   "source": [
    "| Data Science Tools |\n",
    "| :--- |\n",
    "| Jupyter Notebooks |\n",
    "| R Studio |\n",
    "| Visual Studio Code |"
   ]
  },
  {
   "cell_type": "markdown",
   "id": "1e017083",
   "metadata": {},
   "source": [
    "-----------"
   ]
  },
  {
   "cell_type": "markdown",
   "id": "78a851af",
   "metadata": {},
   "source": [
    "### Here are a few examples of how to evaluate arithmetic expressions in Python"
   ]
  },
  {
   "cell_type": "code",
   "execution_count": 6,
   "id": "06209723",
   "metadata": {},
   "outputs": [
    {
     "data": {
      "text/plain": [
       "197"
      ]
     },
     "execution_count": 6,
     "metadata": {},
     "output_type": "execute_result"
    }
   ],
   "source": [
    "# This is a simple arithmetic expression that multiplies and adds numbers (integer)\n",
    "(13 * 14) + 15"
   ]
  },
  {
   "cell_type": "code",
   "execution_count": 12,
   "id": "22da858a",
   "metadata": {},
   "outputs": [
    {
     "name": "stdout",
     "output_type": "stream",
     "text": [
      "200 minutes is equal to 3.33 hours\n"
     ]
    }
   ],
   "source": [
    "# This will convert 200 minutes to hours by diving by 60\n",
    "minutes = 200\n",
    "hours = round(minutes / 60, 2)\n",
    "print(f\"{minutes} minutes is equal to {hours} hours\")"
   ]
  },
  {
   "cell_type": "markdown",
   "id": "4d6d0d5c",
   "metadata": {},
   "source": [
    "---"
   ]
  },
  {
   "cell_type": "markdown",
   "id": "348478a9",
   "metadata": {},
   "source": [
    "**Objectives:**\n",
    "- List popular languages for Data Science.\n",
    "- List popular libraries for Data Science.\n",
    "- List popular tools for Data Science.\n",
    "- Examples of arithmetic expressions in a Jupiter Notebook."
   ]
  },
  {
   "cell_type": "markdown",
   "id": "60cc0916",
   "metadata": {},
   "source": [
    "## Author\n",
    "Martin Penyy"
   ]
  },
  {
   "cell_type": "markdown",
   "id": "f4378310",
   "metadata": {},
   "source": [
    "---"
   ]
  }
 ],
 "metadata": {
  "kernelspec": {
   "display_name": "Python 3 (ipykernel)",
   "language": "python",
   "name": "python3"
  },
  "language_info": {
   "codemirror_mode": {
    "name": "ipython",
    "version": 3
   },
   "file_extension": ".py",
   "mimetype": "text/x-python",
   "name": "python",
   "nbconvert_exporter": "python",
   "pygments_lexer": "ipython3",
   "version": "3.10.9"
  }
 },
 "nbformat": 4,
 "nbformat_minor": 5
}
